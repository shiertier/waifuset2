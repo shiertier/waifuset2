{
 "cells": [
  {
   "cell_type": "markdown",
   "metadata": {},
   "source": [
    "# 使用方法"
   ]
  },
  {
   "cell_type": "markdown",
   "metadata": {},
   "source": [
    "## 1. 数据集的加载"
   ]
  },
  {
   "cell_type": "code",
   "execution_count": null,
   "metadata": {},
   "outputs": [],
   "source": [
    "from waifuset.classes import Dataset\n",
    "\n",
    "source = './images/' # 装有图像的文件夹\n",
    "dataset = Dataset(\n",
    "    source, # 数据集源，可以是一个或多个（用列表包装）(i) 文件夹目录、(ii) 图像文件路径、(iii) json/csv 文件路径\n",
    "    read_attrs=True, # 是否读取 图像名.txt 作为标注，仅对源 (i) 和 (ii) 有效\n",
    "    formalize_caption=False, # 是否将标注规范化\n",
    "    recur=True, # 是否递归读取子文件夹，仅对源 (i) 有效\n",
    "    verbose=True, # 是否打印详细信息，建议开启\n",
    ")"
   ]
  },
  {
   "cell_type": "markdown",
   "metadata": {},
   "source": [
    "## 2. 数据集的导出"
   ]
  },
  {
   "cell_type": "code",
   "execution_count": null,
   "metadata": {},
   "outputs": [],
   "source": [
    "dataset.to_csv('./database/my-database.csv') # 保存为 csv 数据库文件"
   ]
  },
  {
   "cell_type": "code",
   "execution_count": null,
   "metadata": {},
   "outputs": [],
   "source": [
    "dataset.to_json('./database/my-database.json') # 保存为 json 数据库文件"
   ]
  },
  {
   "cell_type": "code",
   "execution_count": null,
   "metadata": {},
   "outputs": [],
   "source": [
    "dataset.to_txts() # 写入为 图像名.txt 数据库文件"
   ]
  },
  {
   "cell_type": "markdown",
   "metadata": {},
   "source": [
    "## 3. 数据集的可视化"
   ]
  },
  {
   "cell_type": "code",
   "execution_count": null,
   "metadata": {},
   "outputs": [],
   "source": [
    "print(dataset)"
   ]
  },
  {
   "cell_type": "code",
   "execution_count": null,
   "metadata": {},
   "outputs": [],
   "source": [
    "for img_key, img_info in dataset.items():\n",
    "    print(img_key, '\\n  '.join([f'{k}: {v}' for k, v in img_info.dict().items()]))"
   ]
  },
  {
   "cell_type": "markdown",
   "metadata": {},
   "source": [
    "## 4. 数据集的操作\n",
    "数据在数据集中的存储用 ImageInfo 图像信息类来表示，image_info 类中包含了图像的路径、图像的标注信息、图像的宽高等信息。\n",
    "\n",
    "假如 a 是一个 ImageInfo 类的对象，那么它具有如下属性：\n",
    "1. **a.image_path: \\[可修改\\] 图像的文件路径**\n",
    "2. **a.caption: \\[可修改\\] 数据标注**\n",
    "3. a.original_size: 图像的原始尺寸\n",
    "4. a.key: 数据的唯一标识符，即其文件名称（不包含扩展名）\n",
    "5. a.stem: 同 a.key\n",
    "6. a.suffix: 图像文件的扩展名\n",
    "7. a.category: 图像的类别，即其所在的文件夹名称\n",
    "8. a.source: 图像的来源，即其所在的文件夹的所在文件夹的**路径**\n",
    "\n",
    "其中，a.caption 是一个 Caption 类的对象，它又具有如下属性：\n",
    "1. a.caption.tags: 标注的 tag 列表\n",
    "2. a.caption.caption: 标注的文本，用逗号加空格分隔标签\n",
    "3. a.caption.artist: 图像的作者\n",
    "4. a.caption.quality: 图像的质量\n",
    "5. a.caption.styles: 图像的风格\n",
    "6. a.caption.characters: 图像中的角色\n",
    "修改上述任何一个属性将会自动更新其它属性，例如修改 a.caption.caption 将会自动更新 a.caption.tags, a.caption.artist 等其他几个属性。"
   ]
  },
  {
   "cell_type": "markdown",
   "metadata": {},
   "source": [
    "数据集批量操作的核心是 apply_map 函数。apply_map 接受的参数为另一个变换函数 func 和 func 的其他参数。\n",
    "其中，func 必须接受一个 ImageInfo 类的对象作为其第一个参数，且返回一个 ImageInfo 类的对象，作为变换后的数据。\n",
    "以下三个示例展示了 apply_map 的用法"
   ]
  },
  {
   "cell_type": "code",
   "execution_count": null,
   "metadata": {},
   "outputs": [],
   "source": [
    "# 示例一：为所有标注添加一个前缀 `my tag`\n",
    "\n",
    "def my_transform(image_info):\n",
    "    image_info.caption = 'my tag' + image_info.caption\n",
    "    return image_info\n",
    "dataset.apply_map(my_transform)"
   ]
  },
  {
   "cell_type": "code",
   "execution_count": null,
   "metadata": {},
   "outputs": [],
   "source": [
    "# 示例二：功能与示例一相同，但是使用了 `tag` 作为额外参数，便于修改\n",
    "\n",
    "def my_transform(image_info, tag):\n",
    "    image_info.caption = tag + image_info.caption\n",
    "    return image_info\n",
    "\n",
    "dataset.apply_map(my_transform, 'my tag') # 对每个图像信息对象执行 my_transform 函数"
   ]
  },
  {
   "cell_type": "code",
   "execution_count": null,
   "metadata": {},
   "outputs": [],
   "source": [
    "# 示例三：格式化并优化所有标注\n",
    "from waifuset import tagging\n",
    "tagging.init_priority_tags() # 初始化优先标签\n",
    "\n",
    "def my_transform(image_info):\n",
    "    caption = image_info.caption\n",
    "    if caption is None:\n",
    "        return image_info\n",
    "\n",
    "    # 以下为格式化和优化标注的示例，每一行均为原子操作，允许你单独修改\n",
    "    caption = caption.formalized() # 自动格式化，包括 tag 空格化、括号转义、属性标签提取等\n",
    "    caption = caption.unique() # 去除重复标签\n",
    "    caption -= 'signature, low quality, watermark' # 去除指定标签\n",
    "    caption = caption @ tagging.PRIORITY_REGEX # tag 优先级排序\n",
    "    caption = caption.deovlped() # tag 语义去重\n",
    "    \n",
    "    image_info.caption = caption\n",
    "    return image_info\n",
    "\n",
    "dataset.apply_map(my_transform)"
   ]
  }
 ],
 "metadata": {
  "kernelspec": {
   "display_name": "Python 3",
   "language": "python",
   "name": "python3"
  },
  "language_info": {
   "codemirror_mode": {
    "name": "ipython",
    "version": 3
   },
   "file_extension": ".py",
   "mimetype": "text/x-python",
   "name": "python",
   "nbconvert_exporter": "python",
   "pygments_lexer": "ipython3",
   "version": "3.8.0"
  }
 },
 "nbformat": 4,
 "nbformat_minor": 2
}
